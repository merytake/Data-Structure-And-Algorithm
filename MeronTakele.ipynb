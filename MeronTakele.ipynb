{
 "cells": [
  {
   "cell_type": "markdown",
   "id": "66827dc7-8457-4c47-8564-17f0d5b894f0",
   "metadata": {},
   "source": [
    "ID:1601367\n",
    "DEPARTMENT:DATA SCIENCE\n",
    "GITHUB ADDRESS:https://github.com/merytake"
   ]
  },
  {
   "cell_type": "code",
   "execution_count": 1,
   "id": "b4cbda48-eab9-4a47-bd6a-6f0365cb6c3f",
   "metadata": {},
   "outputs": [
    {
     "name": "stdout",
     "output_type": "stream",
     "text": [
      "Original List:\n",
      "{'id': 'DBU150000', 'name': 'Dawit', 'dept': 'DS', 'cgpa': 3.34}\n",
      "{'id': 'DBU150001', 'name': 'Abrham', 'dept': 'CS', 'cgpa': 3.12}\n",
      "{'id': 'DBU150002', 'name': 'Soliana', 'dept': 'DS', 'cgpa': 2.74}\n",
      "{'id': 'DBU150003', 'name': 'Rahel', 'dept': 'CS', 'cgpa': 3.1}\n",
      "{'id': 'DBU150004', 'name': 'Yosef', 'dept': 'IT', 'cgpa': 3.5}\n",
      "{'id': 'DBU150005', 'name': 'Hanna', 'dept': 'SWE', 'cgpa': 3.8}\n",
      "{'id': 'DBU150006', 'name': 'Elias', 'dept': 'EE', 'cgpa': 2.9}\n",
      "{'id': 'DBU150007', 'name': 'Ruth', 'dept': 'ME', 'cgpa': 3.2}\n",
      "{'id': 'DBU150008', 'name': 'Samuel', 'dept': 'CE', 'cgpa': 3.6}\n",
      "{'id': 'DBU150009', 'name': 'Lidia', 'dept': 'SE', 'cgpa': 3.9}\n",
      "{'id': 'DBU150010', 'name': 'Michael', 'dept': 'AI', 'cgpa': 3.7}\n"
     ]
    }
   ],
   "source": [
    "students = [\n",
    "    {'id': 'DBU150000', 'name': 'Dawit', 'dept': 'DS', 'cgpa': 3.34},\n",
    "    {'id': 'DBU150001', 'name': 'Abrham', 'dept': 'CS', 'cgpa': 3.12},\n",
    "    {'id': 'DBU150002', 'name': 'Soliana', 'dept': 'DS', 'cgpa': 2.74},\n",
    "    {'id': 'DBU150003', 'name': 'Rahel', 'dept': 'CS', 'cgpa': 3.10},\n",
    "    {'id': 'DBU150004', 'name': 'Yosef', 'dept': 'IT', 'cgpa': 3.50},\n",
    "    {'id': 'DBU150005', 'name': 'Hanna', 'dept': 'SWE', 'cgpa': 3.80},\n",
    "    {'id': 'DBU150006', 'name': 'Elias', 'dept': 'EE', 'cgpa': 2.90},\n",
    "    {'id': 'DBU150007', 'name': 'Ruth', 'dept': 'ME', 'cgpa': 3.20},\n",
    "    {'id': 'DBU150008', 'name': 'Samuel', 'dept': 'CE', 'cgpa': 3.60},\n",
    "    {'id': 'DBU150009', 'name': 'Lidia', 'dept': 'SE', 'cgpa': 3.90},\n",
    "    {'id': 'DBU150010', 'name': 'Michael', 'dept': 'AI', 'cgpa': 3.70},\n",
    "]\n",
    "print(\"Original List:\")\n",
    "for student in students:\n",
    "    print(student)\n"
   ]
  },
  {
   "cell_type": "markdown",
   "id": "5bffe654-b35c-4dd9-a4c4-1130894f7231",
   "metadata": {},
   "source": [
    "sorting algorithm heading"
   ]
  },
  {
   "cell_type": "code",
   "execution_count": 10,
   "id": "72a2c647-155c-4e5e-82cb-91a6a5bef162",
   "metadata": {},
   "outputs": [
    {
     "name": "stdout",
     "output_type": "stream",
     "text": [
      "\n",
      "Sorted by ID (Bubble Sort):\n",
      "{'id': 'DBU150000', 'name': 'Dawit', 'dept': 'DS', 'cgpa': 3.34}\n",
      "{'id': 'DBU150001', 'name': 'Abrham', 'dept': 'CS', 'cgpa': 3.12}\n",
      "{'id': 'DBU150002', 'name': 'Soliana', 'dept': 'DS', 'cgpa': 2.74}\n",
      "{'id': 'DBU150003', 'name': 'Rahel', 'dept': 'CS', 'cgpa': 3.1}\n",
      "{'id': 'DBU150004', 'name': 'Yosef', 'dept': 'IT', 'cgpa': 3.5}\n",
      "{'id': 'DBU150005', 'name': 'Hanna', 'dept': 'SWE', 'cgpa': 3.8}\n",
      "{'id': 'DBU150006', 'name': 'Elias', 'dept': 'EE', 'cgpa': 2.9}\n",
      "{'id': 'DBU150007', 'name': 'Ruth', 'dept': 'ME', 'cgpa': 3.2}\n",
      "{'id': 'DBU150008', 'name': 'Samuel', 'dept': 'CE', 'cgpa': 3.6}\n",
      "{'id': 'DBU150009', 'name': 'Lidia', 'dept': 'SE', 'cgpa': 3.9}\n",
      "{'id': 'DBU150010', 'name': 'Michael', 'dept': 'AI', 'cgpa': 3.7}\n"
     ]
    }
   ],
   "source": [
    "# Bubble Sort by ID\n",
    "students_bubble_id = students[:] \n",
    "bubble_sort_by_id(students_bubble_id)\n",
    "print(\"\\nSorted by ID (Bubble Sort):\")\n",
    "for student in students_bubble_id:\n",
    "    print(student)\n"
   ]
  },
  {
   "cell_type": "code",
   "execution_count": 23,
   "id": "091ed23f-69f0-4f28-89fb-bd3f400dd97b",
   "metadata": {},
   "outputs": [
    {
     "name": "stdout",
     "output_type": "stream",
     "text": [
      "\n",
      "Sorted by Name (Insertion Sort):\n",
      "{'id': 'DBU150001', 'name': 'Abrham', 'dept': 'CS', 'cgpa': 3.12}\n",
      "{'id': 'DBU150000', 'name': 'Dawit', 'dept': 'DS', 'cgpa': 3.34}\n",
      "{'id': 'DBU150006', 'name': 'Elias', 'dept': 'EE', 'cgpa': 2.9}\n",
      "{'id': 'DBU150005', 'name': 'Hanna', 'dept': 'SWE', 'cgpa': 3.8}\n",
      "{'id': 'DBU150009', 'name': 'Lidia', 'dept': 'SE', 'cgpa': 3.9}\n",
      "{'id': 'DBU150010', 'name': 'Michael', 'dept': 'AI', 'cgpa': 3.7}\n",
      "{'id': 'DBU150003', 'name': 'Rahel', 'dept': 'CS', 'cgpa': 3.1}\n",
      "{'id': 'DBU150007', 'name': 'Ruth', 'dept': 'ME', 'cgpa': 3.2}\n",
      "{'id': 'DBU150008', 'name': 'Samuel', 'dept': 'CE', 'cgpa': 3.6}\n",
      "{'id': 'DBU150002', 'name': 'Soliana', 'dept': 'DS', 'cgpa': 2.74}\n",
      "{'id': 'DBU150004', 'name': 'Yosef', 'dept': 'IT', 'cgpa': 3.5}\n"
     ]
    }
   ],
   "source": [
    "# Insertion Sort by Name\n",
    "students_insertion_name = students[:]\n",
    "insertion_sort_by_name(students_insertion_name)\n",
    "print(\"\\nSorted by Name (Insertion Sort):\")\n",
    "for student in students_insertion_name:\n",
    "    print(student)"
   ]
  },
  {
   "cell_type": "code",
   "execution_count": 22,
   "id": "85171770-5e62-412e-8ea4-a022555300af",
   "metadata": {},
   "outputs": [
    {
     "name": "stdout",
     "output_type": "stream",
     "text": [
      "\n",
      "Sorted by CGPA (Selection Sort, Descending):\n",
      "{'id': 'DBU150009', 'name': 'Lidia', 'dept': 'SE', 'cgpa': 3.9}\n",
      "{'id': 'DBU150005', 'name': 'Hanna', 'dept': 'SWE', 'cgpa': 3.8}\n",
      "{'id': 'DBU150010', 'name': 'Michael', 'dept': 'AI', 'cgpa': 3.7}\n",
      "{'id': 'DBU150008', 'name': 'Samuel', 'dept': 'CE', 'cgpa': 3.6}\n",
      "{'id': 'DBU150004', 'name': 'Yosef', 'dept': 'IT', 'cgpa': 3.5}\n",
      "{'id': 'DBU150000', 'name': 'Dawit', 'dept': 'DS', 'cgpa': 3.34}\n",
      "{'id': 'DBU150007', 'name': 'Ruth', 'dept': 'ME', 'cgpa': 3.2}\n",
      "{'id': 'DBU150001', 'name': 'Abrham', 'dept': 'CS', 'cgpa': 3.12}\n",
      "{'id': 'DBU150003', 'name': 'Rahel', 'dept': 'CS', 'cgpa': 3.1}\n",
      "{'id': 'DBU150006', 'name': 'Elias', 'dept': 'EE', 'cgpa': 2.9}\n",
      "{'id': 'DBU150002', 'name': 'Soliana', 'dept': 'DS', 'cgpa': 2.74}\n"
     ]
    }
   ],
   "source": [
    "# Selection Sort by CGPA (Descending)\n",
    "students_selection_cgpa = students[:]\n",
    "selection_sort_by_cgpa_descending(students_selection_cgpa)\n",
    "print(\"\\nSorted by CGPA (Selection Sort, Descending):\")\n",
    "for student in students_selection_cgpa:\n",
    "    print(student)\n"
   ]
  },
  {
   "cell_type": "markdown",
   "id": "d2cb4c95-b915-4482-a6b2-e34ccb2afb95",
   "metadata": {},
   "source": [
    "Performance of each algorithms"
   ]
  },
  {
   "cell_type": "code",
   "execution_count": 24,
   "id": "6ae1c45b-ee14-400b-b5e3-fbc03a9dff22",
   "metadata": {},
   "outputs": [
    {
     "ename": "SyntaxError",
     "evalue": "invalid character '•' (U+2022) (804184936.py, line 2)",
     "output_type": "error",
     "traceback": [
      "\u001b[0;36m  Cell \u001b[0;32mIn[24], line 2\u001b[0;36m\u001b[0m\n\u001b[0;31m    •  Insertion Sort: Can perform well if the initial list is partially sorted. If the student list is already nearly sorted by name, insertion sort will require fewer comparisons and shifts, resulting in faster execution.\u001b[0m\n\u001b[0m    ^\u001b[0m\n\u001b[0;31mSyntaxError\u001b[0m\u001b[0;31m:\u001b[0m invalid character '•' (U+2022)\n"
     ]
    }
   ],
   "source": [
    " Data Characteristics (Initial Order):\n",
    "  •  Insertion Sort: Can perform well if the initial list is partially sorted. If the student list is already nearly sorted by name, insertion sort will require fewer comparisons and shifts, resulting in faster execution.\n",
    "  •  Bubble Sort: If the list is already sorted in the desired order, Bubble Sort will terminate in O(n) time (after one pass through the list). However, this is a rare occurrence in practice.\n",
    "  •  Selection Sort: Its performance is not affected by the initial order of the list. It will always perform the same number of comparisons, regardless of whether the data is partially sorted or completely unsorted.\n",
    " Data Size: The performance differences between these algorithms become more significant as the number of student dictionaries increases. For small lists (e.g., less than 50-100 elements), the differences might be negligible in terms of perceived execution time. However, for larger lists (hundreds or thousands of elements), the O(n^2) complexity of these algorithms will result in noticeably slower performance.\n",
    "1.For small datasets (small number of students): The performance differences between Bubble Sort, Insertion Sort, and Selection Sort will likely be minimal. Insertion Sort might be slightly faster if the list is partially sorted.\n",
    "\n",
    "2. For moderately sized datasets: Insertion Sort will likely outperform Bubble Sort and Selection Sort, especially if the data is partially sorted. Selection Sort may perform slightly better than Bubble Sort due to fewer swap operations.\n",
    "\n",
    "3. For larger datasets: All three algorithms will perform poorly due to their O(n^2) time complexity. The execution time will increase quadratically with the number of students.\n"
   ]
  },
  {
   "cell_type": "markdown",
   "id": "110279aa-9882-4c1b-8586-db8806104d0a",
   "metadata": {},
   "source": [
    "ADVANTAGES AND DISADVANTAGES OF EACH ALGORITHMS"
   ]
  },
  {
   "cell_type": "code",
   "execution_count": null,
   "id": "7ca612d8-d987-4d22-b5e4-4457f9f863e1",
   "metadata": {},
   "outputs": [],
   "source": [
    "Bubble Sort:\n",
    "\n",
    "•  Advantages:\n",
    "  •  Simplicity: It's easy to understand and implement. The logic is very straightforward.\n",
    "  •  In-Place Sorting: It doesn't require significant extra memory. It sorts the data within the original list, using only a few temporary variables.\n",
    "  •  Detecting Sorted Data (Best Case): If the list is already sorted, Bubble Sort can detect this in O(n) time during the first pass. This makes it adaptive in this specific, rare case.\n",
    "\n",
    "•  Disadvantages:\n",
    "  •  Poor Performance: It has a time complexity of O(n^2) in most cases (average and worst). This makes it highly inefficient for large datasets.\n",
    "  •  Many Swaps: It performs a large number of swap operations, which can be slow, especially when dealing with large dictionary objects. Even if the swap occurs, it will continue to bubble through, doing extra unnecessary calculations.\n",
    "\n",
    "Insertion Sort:\n",
    "\n",
    "•  Advantages:\n",
    "  •  Simplicity: Relatively easy to implement.\n",
    "  •  Efficient for Small Datasets: It performs reasonably well for small lists (generally better than Bubble Sort).\n",
    "  •  In-Place Sorting: It sorts the data in place, requiring minimal extra memory.\n",
    "  •  Adaptive: It performs well when the input data is already partially sorted. Its performance improves significantly in this scenario.\n",
    "  •  Stable: It preserves the relative order of elements with equal keys.\n",
    "\n",
    "•  Disadvantages:\n",
    "  •  O(n^2) Time Complexity: Has a time complexity of O(n^2) in the worst and average cases, making it unsuitable for large datasets.\n",
    "\n",
    "Selection Sort:\n",
    "\n",
    "•  Advantages:\n",
    "  •  Simplicity: Relatively easy to understand and implement.\n",
    "  •  Fewer Swaps: It performs fewer swap operations compared to Bubble Sort. This can be an advantage if swap operations are expensive.\n",
    "\n",
    "•  Disadvantages:\n",
    "  •  Always O(n^2): It has a time complexity of O(n^2) in all cases (best, average, and worst). This means it doesn't adapt well to partially sorted data.\n",
    "  •  Inefficient for Large Datasets: The O(n^2) time complexity makes it inefficient for large datasets.\n",
    "  •  Not Adaptive: The code will always run in O(n^2) whether the code is sorted or nearly sorted"
   ]
  }
 ],
 "metadata": {
  "kernelspec": {
   "display_name": "anaconda-panel-2023.05-py310",
   "language": "python",
   "name": "conda-env-anaconda-panel-2023.05-py310-py"
  },
  "language_info": {
   "codemirror_mode": {
    "name": "ipython",
    "version": 3
   },
   "file_extension": ".py",
   "mimetype": "text/x-python",
   "name": "python",
   "nbconvert_exporter": "python",
   "pygments_lexer": "ipython3",
   "version": "3.11.5"
  }
 },
 "nbformat": 4,
 "nbformat_minor": 5
}
